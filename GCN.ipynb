{
  "nbformat": 4,
  "nbformat_minor": 0,
  "metadata": {
    "colab": {
      "provenance": [],
      "authorship_tag": "ABX9TyOAInx0/aN5D9QbhlAH2Z/W",
      "include_colab_link": true
    },
    "kernelspec": {
      "name": "python3",
      "display_name": "Python 3"
    },
    "language_info": {
      "name": "python"
    }
  },
  "cells": [
    {
      "cell_type": "markdown",
      "metadata": {
        "id": "view-in-github",
        "colab_type": "text"
      },
      "source": [
        "<a href=\"https://colab.research.google.com/github/Tanvir19934/Colab-notebooks/blob/main/GCN.ipynb\" target=\"_parent\"><img src=\"https://colab.research.google.com/assets/colab-badge.svg\" alt=\"Open In Colab\"/></a>"
      ]
    },
    {
      "cell_type": "code",
      "source": [
        "!pip install torch_geometric"
      ],
      "metadata": {
        "colab": {
          "base_uri": "https://localhost:8080/"
        },
        "id": "NL9luZIll26n",
        "outputId": "b39a95ad-f06f-4525-ad47-60b08d68662a"
      },
      "execution_count": null,
      "outputs": [
        {
          "output_type": "stream",
          "name": "stdout",
          "text": [
            "Collecting torch_geometric\n",
            "  Downloading torch_geometric-2.5.3-py3-none-any.whl.metadata (64 kB)\n",
            "\u001b[2K     \u001b[90m━━━━━━━━━━━━━━━━━━━━━━━━━━━━━━━━━━━━━━━━\u001b[0m \u001b[32m64.2/64.2 kB\u001b[0m \u001b[31m2.0 MB/s\u001b[0m eta \u001b[36m0:00:00\u001b[0m\n",
            "\u001b[?25hRequirement already satisfied: tqdm in /usr/local/lib/python3.10/dist-packages (from torch_geometric) (4.66.4)\n",
            "Requirement already satisfied: numpy in /usr/local/lib/python3.10/dist-packages (from torch_geometric) (1.26.4)\n",
            "Requirement already satisfied: scipy in /usr/local/lib/python3.10/dist-packages (from torch_geometric) (1.13.1)\n",
            "Requirement already satisfied: fsspec in /usr/local/lib/python3.10/dist-packages (from torch_geometric) (2024.6.1)\n",
            "Requirement already satisfied: jinja2 in /usr/local/lib/python3.10/dist-packages (from torch_geometric) (3.1.4)\n",
            "Requirement already satisfied: aiohttp in /usr/local/lib/python3.10/dist-packages (from torch_geometric) (3.10.0)\n",
            "Requirement already satisfied: requests in /usr/local/lib/python3.10/dist-packages (from torch_geometric) (2.31.0)\n",
            "Requirement already satisfied: pyparsing in /usr/local/lib/python3.10/dist-packages (from torch_geometric) (3.1.2)\n",
            "Requirement already satisfied: scikit-learn in /usr/local/lib/python3.10/dist-packages (from torch_geometric) (1.3.2)\n",
            "Requirement already satisfied: psutil>=5.8.0 in /usr/local/lib/python3.10/dist-packages (from torch_geometric) (5.9.5)\n",
            "Requirement already satisfied: aiohappyeyeballs>=2.3.0 in /usr/local/lib/python3.10/dist-packages (from aiohttp->torch_geometric) (2.3.4)\n",
            "Requirement already satisfied: aiosignal>=1.1.2 in /usr/local/lib/python3.10/dist-packages (from aiohttp->torch_geometric) (1.3.1)\n",
            "Requirement already satisfied: attrs>=17.3.0 in /usr/local/lib/python3.10/dist-packages (from aiohttp->torch_geometric) (23.2.0)\n",
            "Requirement already satisfied: frozenlist>=1.1.1 in /usr/local/lib/python3.10/dist-packages (from aiohttp->torch_geometric) (1.4.1)\n",
            "Requirement already satisfied: multidict<7.0,>=4.5 in /usr/local/lib/python3.10/dist-packages (from aiohttp->torch_geometric) (6.0.5)\n",
            "Requirement already satisfied: yarl<2.0,>=1.0 in /usr/local/lib/python3.10/dist-packages (from aiohttp->torch_geometric) (1.9.4)\n",
            "Requirement already satisfied: async-timeout<5.0,>=4.0 in /usr/local/lib/python3.10/dist-packages (from aiohttp->torch_geometric) (4.0.3)\n",
            "Requirement already satisfied: MarkupSafe>=2.0 in /usr/local/lib/python3.10/dist-packages (from jinja2->torch_geometric) (2.1.5)\n",
            "Requirement already satisfied: charset-normalizer<4,>=2 in /usr/local/lib/python3.10/dist-packages (from requests->torch_geometric) (3.3.2)\n",
            "Requirement already satisfied: idna<4,>=2.5 in /usr/local/lib/python3.10/dist-packages (from requests->torch_geometric) (3.7)\n",
            "Requirement already satisfied: urllib3<3,>=1.21.1 in /usr/local/lib/python3.10/dist-packages (from requests->torch_geometric) (2.0.7)\n",
            "Requirement already satisfied: certifi>=2017.4.17 in /usr/local/lib/python3.10/dist-packages (from requests->torch_geometric) (2024.7.4)\n",
            "Requirement already satisfied: joblib>=1.1.1 in /usr/local/lib/python3.10/dist-packages (from scikit-learn->torch_geometric) (1.4.2)\n",
            "Requirement already satisfied: threadpoolctl>=2.0.0 in /usr/local/lib/python3.10/dist-packages (from scikit-learn->torch_geometric) (3.5.0)\n",
            "Downloading torch_geometric-2.5.3-py3-none-any.whl (1.1 MB)\n",
            "\u001b[2K   \u001b[90m━━━━━━━━━━━━━━━━━━━━━━━━━━━━━━━━━━━━━━━━\u001b[0m \u001b[32m1.1/1.1 MB\u001b[0m \u001b[31m16.3 MB/s\u001b[0m eta \u001b[36m0:00:00\u001b[0m\n",
            "\u001b[?25hInstalling collected packages: torch_geometric\n",
            "Successfully installed torch_geometric-2.5.3\n"
          ]
        }
      ]
    },
    {
      "cell_type": "code",
      "execution_count": null,
      "metadata": {
        "colab": {
          "base_uri": "https://localhost:8080/"
        },
        "id": "pJBS6u6NDW3w",
        "outputId": "d9360e06-bbbb-4858-9d4c-f47347f3206a"
      },
      "outputs": [
        {
          "output_type": "stream",
          "name": "stderr",
          "text": [
            "<ipython-input-4-3d79c9bbc3e9>:73: UserWarning: To copy construct from a tensor, it is recommended to use sourceTensor.clone().detach() or sourceTensor.clone().detach().requires_grad_(True), rather than torch.tensor(sourceTensor).\n",
            "  budget_balance_loss = criterion(total_payment, torch.tensor(coalition_cost))\n"
          ]
        },
        {
          "output_type": "stream",
          "name": "stdout",
          "text": [
            "Epoch 0, Loss: 1384994.375\n",
            "Epoch 100, Loss: 999113.125\n",
            "Epoch 200, Loss: 199128.421875\n",
            "Epoch 300, Loss: 192271.953125\n",
            "Epoch 400, Loss: 187642.046875\n",
            "Epoch 500, Loss: 184392.578125\n",
            "Epoch 600, Loss: 180627.359375\n",
            "Epoch 700, Loss: 174974.6875\n",
            "Epoch 800, Loss: 166703.453125\n",
            "Epoch 900, Loss: 155825.75\n",
            "Epoch 1000, Loss: 145117.046875\n",
            "Epoch 1100, Loss: 140833.28125\n",
            "Epoch 1200, Loss: 139860.734375\n",
            "Epoch 1300, Loss: 139202.390625\n",
            "Epoch 1400, Loss: 138512.984375\n",
            "Epoch 1500, Loss: 137896.796875\n",
            "Epoch 1600, Loss: 137382.84375\n",
            "Epoch 1700, Loss: 136859.6875\n",
            "Epoch 1800, Loss: 136320.28125\n",
            "Epoch 1900, Loss: 135766.9375\n",
            "Epoch 2000, Loss: 135200.265625\n",
            "Epoch 2100, Loss: 134644.125\n",
            "Epoch 2200, Loss: 134060.484375\n",
            "Epoch 2300, Loss: 133484.875\n",
            "Epoch 2400, Loss: 132924.921875\n",
            "Epoch 2500, Loss: 132435.90625\n",
            "Epoch 2600, Loss: 130913.5078125\n",
            "Epoch 2700, Loss: 127669.0234375\n",
            "Epoch 2800, Loss: 123247.1328125\n",
            "Epoch 2900, Loss: 117658.078125\n",
            "Final payments: tensor([ 86.1148,  57.3928,  58.6434, 112.1279, 134.9170, 143.4810, 114.5510,\n",
            "         97.9730, 133.7271, 149.8392])\n",
            "Total payment: 1088.7672119140625\n"
          ]
        }
      ],
      "source": [
        "import torch\n",
        "import torch.nn as nn\n",
        "import torch.optim as optim\n",
        "from torch_geometric.nn import GCNConv\n",
        "from torch_geometric.data import Data\n",
        "import torch.nn.functional as F\n",
        "\n",
        "\n",
        "# Define individual costs and locations\n",
        "individual_costs = torch.tensor([7, 27, 5, 10, 12, 14, 9, 10, 11, 21], dtype=torch.float32)\n",
        "locations = torch.tensor([\n",
        "    [0, 0], [1, 2], [2, 3], [3, 4], [4, 5],\n",
        "    [5, 6], [6, 7], [7, 8], [8, 9], [9, 10]\n",
        "], dtype=torch.float32)\n",
        "coalition_cost = torch.tensor(70.0)\n",
        "# Define edges (for simplicity, assuming a fully connected graph)\n",
        "edge_index = torch.tensor([\n",
        "    [0, 1, 2, 3, 4, 5, 6, 7, 8, 9,\n",
        "     1, 2, 3, 4, 5, 6, 7, 8, 9, 0],\n",
        "    [1, 2, 3, 4, 5, 6, 7, 8, 9, 0,\n",
        "     0, 1, 2, 3, 4, 5, 6, 7, 8, 9]\n",
        "], dtype=torch.long)\n",
        "\n",
        "# Define the GCN model\n",
        "\n",
        "class CostSharingGCN(nn.Module):\n",
        "    def __init__(self, num_node_features, hidden_channels):\n",
        "        super(CostSharingGCN, self).__init__()\n",
        "        # Define the three GCN layers\n",
        "        self.conv1 = GCNConv(num_node_features, hidden_channels)\n",
        "        self.conv2 = GCNConv(hidden_channels, hidden_channels)\n",
        "        self.conv3 = GCNConv(hidden_channels, hidden_channels)\n",
        "        # Define the two fully connected layers\n",
        "        self.fc1 = torch.nn.Linear(hidden_channels, hidden_channels)\n",
        "        self.fc2 = torch.nn.Linear(hidden_channels, 1)  # Output is one scalar value per node\n",
        "\n",
        "    def forward(self, data):\n",
        "        x, edge_index = data.x, data.edge_index\n",
        "        # Pass through the first GCN layer\n",
        "        x = self.conv1(x, edge_index)\n",
        "        x = F.relu(x)\n",
        "        # Pass through the second GCN layer\n",
        "        x = self.conv2(x, edge_index)\n",
        "        x = F.relu(x)\n",
        "        # Pass through the third GCN layer\n",
        "        x = self.conv3(x, edge_index)\n",
        "        x = F.relu(x)\n",
        "        # Pass through the first fully connected layer\n",
        "        x = self.fc1(x)\n",
        "        x = F.relu(x)\n",
        "        # Pass through the second fully connected layer to get the output\n",
        "        x = self.fc2(x)\n",
        "        return x\n",
        "# Prepare data\n",
        "node_features = torch.cat((individual_costs.view(-1, 1), locations), dim=1)\n",
        "data = Data(x=node_features, edge_index=edge_index)\n",
        "\n",
        "# Initialize model, loss function, and optimizer\n",
        "model = CostSharingGCN(3,16)\n",
        "criterion = nn.MSELoss()\n",
        "optimizer = optim.Adam(model.parameters(), lr=0.001)\n",
        "\n",
        "# Training loop\n",
        "for epoch in range(3000):\n",
        "    model.train()\n",
        "    optimizer.zero_grad()\n",
        "\n",
        "    # Forward pass\n",
        "    payments = model(data).squeeze()\n",
        "    total_payment = payments.sum()\n",
        "\n",
        "    # Loss calculation\n",
        "    budget_balance_loss = criterion(total_payment, torch.tensor(coalition_cost))\n",
        "    individual_rationality_loss = torch.relu(payments - individual_costs).sum()\n",
        "    cost_reductions = (individual_costs - payments) / individual_costs\n",
        "    fairness_loss = cost_reductions.var()\n",
        "\n",
        "    loss = budget_balance_loss + individual_rationality_loss + fairness_loss*10000\n",
        "\n",
        "    # Backward pass and optimization\n",
        "    loss.backward()\n",
        "    optimizer.step()\n",
        "\n",
        "    if epoch % 100 == 0:\n",
        "        print(f'Epoch {epoch}, Loss: {loss.item()}')\n",
        "\n",
        "# Get the final payments\n",
        "model.eval()\n",
        "final_payments = model(data).squeeze().detach()\n",
        "print(f'Final payments: {final_payments}')\n",
        "print(f'Total payment: {final_payments.sum()}')\n"
      ]
    },
    {
      "cell_type": "code",
      "source": [
        "(individual_costs-final_payments)/individual_costs"
      ],
      "metadata": {
        "colab": {
          "base_uri": "https://localhost:8080/"
        },
        "id": "s__ZUMOyDxwR",
        "outputId": "58c34609-6f76-45c2-d52b-bca68528e579"
      },
      "execution_count": null,
      "outputs": [
        {
          "output_type": "execute_result",
          "data": {
            "text/plain": [
              "tensor([0.4291, 0.4233, 0.4301, 0.4332, 0.3481, 0.5298, 0.4240, 0.4393, 0.3771,\n",
              "        0.5358])"
            ]
          },
          "metadata": {},
          "execution_count": 70
        }
      ]
    },
    {
      "cell_type": "code",
      "source": [
        "individual_costs"
      ],
      "metadata": {
        "colab": {
          "base_uri": "https://localhost:8080/"
        },
        "id": "FudrzvmrD9ia",
        "outputId": "568732ff-6195-4a7f-d832-4b588ab6e91d"
      },
      "execution_count": null,
      "outputs": [
        {
          "output_type": "execute_result",
          "data": {
            "text/plain": [
              "tensor([ 7., 27.,  5., 10., 12., 14.,  9., 10., 11., 21.])"
            ]
          },
          "metadata": {},
          "execution_count": 30
        }
      ]
    },
    {
      "cell_type": "code",
      "source": [
        "coalition_cost"
      ],
      "metadata": {
        "colab": {
          "base_uri": "https://localhost:8080/"
        },
        "id": "mNEvDxHVEJIG",
        "outputId": "49d82244-4069-4ec7-f68f-aab2998f24ea"
      },
      "execution_count": null,
      "outputs": [
        {
          "output_type": "execute_result",
          "data": {
            "text/plain": [
              "tensor(0.6431, grad_fn=<SumBackward0>)"
            ]
          },
          "metadata": {},
          "execution_count": 7
        }
      ]
    },
    {
      "cell_type": "code",
      "source": [
        "torch.tensor([70,70,70,70,70,70,70,70,70,70])/10"
      ],
      "metadata": {
        "colab": {
          "base_uri": "https://localhost:8080/"
        },
        "id": "9K8WeBlOERri",
        "outputId": "e611bffd-f8ed-4fb7-8e3e-19b2335d5fbe"
      },
      "execution_count": null,
      "outputs": [
        {
          "output_type": "execute_result",
          "data": {
            "text/plain": [
              "tensor([7., 7., 7., 7., 7., 7., 7., 7., 7., 7.])"
            ]
          },
          "metadata": {},
          "execution_count": 10
        }
      ]
    },
    {
      "cell_type": "code",
      "source": [
        "import torch\n",
        "import torch.nn.functional as F\n",
        "from torch_geometric.nn import GCNConv\n",
        "from torch_geometric.data import Data\n",
        "\n",
        "class GCN(torch.nn.Module):\n",
        "    def __init__(self, num_node_features, hidden_channels):\n",
        "        super(GCN, self).__init__()\n",
        "        self.conv1 = GCNConv(num_node_features, hidden_channels)\n",
        "        self.conv2 = GCNConv(hidden_channels, hidden_channels)\n",
        "        self.conv3 = GCNConv(hidden_channels, hidden_channels)\n",
        "        self.fc1 = torch.nn.Linear(hidden_channels, hidden_channels)\n",
        "        self.fc2 = torch.nn.Linear(hidden_channels, 1)  # Output is one scalar value per node\n",
        "\n",
        "    def forward(self, data):\n",
        "        x, edge_index = data.x, data.edge_index\n",
        "        x = self.conv1(x, edge_index)\n",
        "        x = F.relu(x)\n",
        "        x = self.conv2(x, edge_index)\n",
        "        x = F.relu(x)\n",
        "        x = self.conv3(x, edge_index)\n",
        "        x = F.relu(x)\n",
        "        x = self.fc1(x)\n",
        "        x = F.relu(x)\n",
        "        x = self.fc2(x)\n",
        "        return x\n",
        "\n",
        "# Example data with provided individual costs\n",
        "num_nodes = 10\n",
        "features = 2  # For example, location and individual cost\n",
        "x = torch.randn((num_nodes, features))\n",
        "edge_index = torch.tensor([[0, 1, 2, 3, 4, 5, 6, 7, 8, 9],\n",
        "                           [1, 2, 3, 4, 5, 6, 7, 8, 9, 0]], dtype=torch.long)\n",
        "individual_costs = torch.tensor([7, 27, 5, 10, 12, 14, 9, 10, 11, 21], dtype=torch.float)\n",
        "\n",
        "data = Data(x=x, edge_index=edge_index)\n",
        "\n",
        "# Initialize model, optimizer, and loss function\n",
        "model = GCN(num_node_features=features, hidden_channels=16)\n",
        "optimizer = torch.optim.Adam(model.parameters(), lr=0.01)\n",
        "criterion = torch.nn.MSELoss()\n",
        "\n",
        "# Define the target coalition cost\n",
        "target_coalition_cost = torch.tensor(70.0)\n",
        "\n",
        "# Training loop\n",
        "num_epochs = 1000\n",
        "for epoch in range(num_epochs):\n",
        "    model.train()\n",
        "    optimizer.zero_grad()\n",
        "    out = model(data).squeeze()\n",
        "    coalition_cost = out.sum()\n",
        "    payments = out\n",
        "\n",
        "    # Calculate percentage reduction in costs\n",
        "    percentage_reductions = (individual_costs - payments) / individual_costs\n",
        "\n",
        "    # Calculate the loss\n",
        "    loss = criterion(coalition_cost, target_coalition_cost)  # Ensure budget balance\n",
        "    individual_rationality_loss = torch.mean(F.relu(payments - individual_costs))  # Penalty for exceeding individual cost\n",
        "    fairness_loss = torch.var(percentage_reductions)*10000  # Penalize large variations in percentage reduction\n",
        "    loss += individual_rationality_loss + fairness_loss  # Ensure individual rationality and fairness\n",
        "\n",
        "    # Backpropagation and optimization\n",
        "    loss.backward()\n",
        "    optimizer.step()\n",
        "\n",
        "    if epoch % 100 == 0:\n",
        "        print(f'Epoch {epoch}, Loss: {loss.item()}')\n",
        "\n",
        "# Resulting payments\n",
        "model.eval()\n",
        "with torch.no_grad():\n",
        "    payments = model(data).squeeze()\n",
        "    print(\"Payments:\", payments)\n",
        "    print(\"Total Payments:\", payments.sum().item())\n"
      ],
      "metadata": {
        "colab": {
          "base_uri": "https://localhost:8080/"
        },
        "id": "XMjA6dXjEqbZ",
        "outputId": "dde68095-d20a-4d8d-f751-26f321417401"
      },
      "execution_count": null,
      "outputs": [
        {
          "output_type": "stream",
          "name": "stdout",
          "text": [
            "Epoch 0, Loss: 4831.94873046875\n",
            "Epoch 100, Loss: 556.5801391601562\n",
            "Epoch 200, Loss: 501.48291015625\n",
            "Epoch 300, Loss: 393.09613037109375\n",
            "Epoch 400, Loss: 345.3827209472656\n",
            "Epoch 500, Loss: 271.55169677734375\n",
            "Epoch 600, Loss: 0.019259866327047348\n",
            "Epoch 700, Loss: 6.775638894396252e-07\n",
            "Epoch 800, Loss: 0.011898737400770187\n",
            "Epoch 900, Loss: 6.570100907765664e-08\n",
            "Payments: tensor([ 3.8506, 14.9894,  2.7730,  5.5480,  6.6560,  7.7633,  4.9699,  5.5204,\n",
            "         6.0992, 11.6257])\n",
            "Total Payments: 69.79550170898438\n"
          ]
        }
      ]
    },
    {
      "cell_type": "code",
      "source": [
        "individual_costs"
      ],
      "metadata": {
        "colab": {
          "base_uri": "https://localhost:8080/"
        },
        "id": "CP3DS6MKIrap",
        "outputId": "6d430994-1c1b-49fc-822b-b9cf5f9972ee"
      },
      "execution_count": null,
      "outputs": [
        {
          "output_type": "execute_result",
          "data": {
            "text/plain": [
              "tensor([ 7., 27.,  5., 10., 12., 14.,  9., 10., 11., 21.])"
            ]
          },
          "metadata": {},
          "execution_count": 41
        }
      ]
    },
    {
      "cell_type": "code",
      "source": [
        "import torch\n",
        "import torch.nn as nn\n",
        "import torch.optim as optim\n",
        "\n",
        "# Define individual costs and coalition cost\n",
        "individual_costs = torch.tensor([7, 27, 5, 10, 12, 14, 9, 10, 11, 21], dtype=torch.float32)\n",
        "coalition_cost = 70.0\n",
        "\n",
        "# Define the model\n",
        "class CostSharingNN(nn.Module):\n",
        "    def __init__(self, input_dim):\n",
        "        super(CostSharingNN, self).__init__()\n",
        "        self.fc1 = nn.Linear(input_dim, 16)\n",
        "        self.fc2 = nn.Linear(16, 16)\n",
        "        self.fc3 = nn.Linear(16, 1)\n",
        "\n",
        "    def forward(self, x):\n",
        "        x = torch.relu(self.fc1(x))\n",
        "        x = torch.relu(self.fc2(x))\n",
        "        x = self.fc3(x)\n",
        "        return x\n",
        "\n",
        "# Initialize model, loss function, and optimizer\n",
        "model = CostSharingNN(input_dim=1)\n",
        "criterion = nn.MSELoss()\n",
        "optimizer = optim.Adam(model.parameters(), lr=0.01)\n",
        "\n",
        "# Training loop\n",
        "for epoch in range(1000):\n",
        "    model.train()\n",
        "    optimizer.zero_grad()\n",
        "\n",
        "    # Forward pass\n",
        "    payments = model(individual_costs.view(-1, 1)).squeeze()\n",
        "    total_payment = payments.sum()\n",
        "\n",
        "    # Loss calculation\n",
        "    budget_balance_loss = criterion(total_payment, torch.tensor(coalition_cost))\n",
        "    individual_rationality_loss = torch.relu(payments - individual_costs).sum()\n",
        "    cost_reductions = (individual_costs - payments) / individual_costs\n",
        "    fairness_loss = cost_reductions.var()\n",
        "\n",
        "    loss = budget_balance_loss + individual_rationality_loss + fairness_loss\n",
        "\n",
        "    # Backward pass and optimization\n",
        "    loss.backward()\n",
        "    optimizer.step()\n",
        "\n",
        "    if epoch % 100 == 0:\n",
        "        print(f'Epoch {epoch}, Loss: {loss.item()}')\n",
        "\n",
        "# Get the final payments\n",
        "model.eval()\n",
        "final_payments = model(individual_costs.view(-1, 1)).squeeze().detach()\n",
        "print(f'Final payments: {final_payments}')\n",
        "print(f'Total payment: {final_payments.sum()}')\n"
      ],
      "metadata": {
        "colab": {
          "base_uri": "https://localhost:8080/"
        },
        "id": "VqzQ2FmFIsUj",
        "outputId": "7f5ee590-e29c-4417-c573-352709434a1b"
      },
      "execution_count": null,
      "outputs": [
        {
          "output_type": "stream",
          "name": "stdout",
          "text": [
            "Epoch 0, Loss: 6528.228515625\n",
            "Epoch 100, Loss: 0.013233574107289314\n",
            "Epoch 200, Loss: 0.0016287502367049456\n",
            "Epoch 300, Loss: 0.0016283998265862465\n",
            "Epoch 400, Loss: 0.0016279863193631172\n",
            "Epoch 500, Loss: 0.001627505524083972\n",
            "Epoch 600, Loss: 0.0016269544139504433\n",
            "Epoch 700, Loss: 0.0016263427678495646\n",
            "Epoch 800, Loss: 0.0016256696544587612\n",
            "Epoch 900, Loss: 0.0016249326290562749\n",
            "Final payments: tensor([ 4.2690, 14.0355,  3.2992,  5.7266,  6.7041,  7.6816,  5.2389,  5.7266,\n",
            "         6.2154, 11.1030])\n",
            "Total payment: 69.99998474121094\n"
          ]
        }
      ]
    },
    {
      "cell_type": "code",
      "source": [],
      "metadata": {
        "colab": {
          "base_uri": "https://localhost:8080/"
        },
        "id": "np6u1_ohj2Am",
        "outputId": "4ba7f9a9-9d8a-41e3-ad26-70c7fc5d2b21"
      },
      "execution_count": null,
      "outputs": [
        {
          "output_type": "stream",
          "name": "stdout",
          "text": [
            "Collecting torch_geometric\n",
            "  Downloading torch_geometric-2.5.3-py3-none-any.whl.metadata (64 kB)\n",
            "\u001b[?25l     \u001b[90m━━━━━━━━━━━━━━━━━━━━━━━━━━━━━━━━━━━━━━━━\u001b[0m \u001b[32m0.0/64.2 kB\u001b[0m \u001b[31m?\u001b[0m eta \u001b[36m-:--:--\u001b[0m\r\u001b[2K     \u001b[90m━━━━━━━━━━━━━━━━━━━━━━━━━━━━━━━━━━━━━━━━\u001b[0m \u001b[32m64.2/64.2 kB\u001b[0m \u001b[31m4.3 MB/s\u001b[0m eta \u001b[36m0:00:00\u001b[0m\n",
            "\u001b[?25hRequirement already satisfied: tqdm in /usr/local/lib/python3.10/dist-packages (from torch_geometric) (4.66.4)\n",
            "Requirement already satisfied: numpy in /usr/local/lib/python3.10/dist-packages (from torch_geometric) (1.26.4)\n",
            "Requirement already satisfied: scipy in /usr/local/lib/python3.10/dist-packages (from torch_geometric) (1.13.1)\n",
            "Requirement already satisfied: fsspec in /usr/local/lib/python3.10/dist-packages (from torch_geometric) (2024.6.1)\n",
            "Requirement already satisfied: jinja2 in /usr/local/lib/python3.10/dist-packages (from torch_geometric) (3.1.4)\n",
            "Requirement already satisfied: aiohttp in /usr/local/lib/python3.10/dist-packages (from torch_geometric) (3.9.5)\n",
            "Requirement already satisfied: requests in /usr/local/lib/python3.10/dist-packages (from torch_geometric) (2.31.0)\n",
            "Requirement already satisfied: pyparsing in /usr/local/lib/python3.10/dist-packages (from torch_geometric) (3.1.2)\n",
            "Requirement already satisfied: scikit-learn in /usr/local/lib/python3.10/dist-packages (from torch_geometric) (1.3.2)\n",
            "Requirement already satisfied: psutil>=5.8.0 in /usr/local/lib/python3.10/dist-packages (from torch_geometric) (5.9.5)\n",
            "Requirement already satisfied: aiosignal>=1.1.2 in /usr/local/lib/python3.10/dist-packages (from aiohttp->torch_geometric) (1.3.1)\n",
            "Requirement already satisfied: attrs>=17.3.0 in /usr/local/lib/python3.10/dist-packages (from aiohttp->torch_geometric) (23.2.0)\n",
            "Requirement already satisfied: frozenlist>=1.1.1 in /usr/local/lib/python3.10/dist-packages (from aiohttp->torch_geometric) (1.4.1)\n",
            "Requirement already satisfied: multidict<7.0,>=4.5 in /usr/local/lib/python3.10/dist-packages (from aiohttp->torch_geometric) (6.0.5)\n",
            "Requirement already satisfied: yarl<2.0,>=1.0 in /usr/local/lib/python3.10/dist-packages (from aiohttp->torch_geometric) (1.9.4)\n",
            "Requirement already satisfied: async-timeout<5.0,>=4.0 in /usr/local/lib/python3.10/dist-packages (from aiohttp->torch_geometric) (4.0.3)\n",
            "Requirement already satisfied: MarkupSafe>=2.0 in /usr/local/lib/python3.10/dist-packages (from jinja2->torch_geometric) (2.1.5)\n",
            "Requirement already satisfied: charset-normalizer<4,>=2 in /usr/local/lib/python3.10/dist-packages (from requests->torch_geometric) (3.3.2)\n",
            "Requirement already satisfied: idna<4,>=2.5 in /usr/local/lib/python3.10/dist-packages (from requests->torch_geometric) (3.7)\n",
            "Requirement already satisfied: urllib3<3,>=1.21.1 in /usr/local/lib/python3.10/dist-packages (from requests->torch_geometric) (2.0.7)\n",
            "Requirement already satisfied: certifi>=2017.4.17 in /usr/local/lib/python3.10/dist-packages (from requests->torch_geometric) (2024.7.4)\n",
            "Requirement already satisfied: joblib>=1.1.1 in /usr/local/lib/python3.10/dist-packages (from scikit-learn->torch_geometric) (1.4.2)\n",
            "Requirement already satisfied: threadpoolctl>=2.0.0 in /usr/local/lib/python3.10/dist-packages (from scikit-learn->torch_geometric) (3.5.0)\n",
            "Downloading torch_geometric-2.5.3-py3-none-any.whl (1.1 MB)\n",
            "\u001b[2K   \u001b[90m━━━━━━━━━━━━━━━━━━━━━━━━━━━━━━━━━━━━━━━━\u001b[0m \u001b[32m1.1/1.1 MB\u001b[0m \u001b[31m39.2 MB/s\u001b[0m eta \u001b[36m0:00:00\u001b[0m\n",
            "\u001b[?25hInstalling collected packages: torch_geometric\n",
            "Successfully installed torch_geometric-2.5.3\n"
          ]
        }
      ]
    },
    {
      "cell_type": "code",
      "source": [
        "!pip install torch_geometric"
      ],
      "metadata": {
        "colab": {
          "base_uri": "https://localhost:8080/"
        },
        "id": "TYRGfGmil0tK",
        "outputId": "2c5e64db-e146-4177-9e99-832c9e2a539b"
      },
      "execution_count": null,
      "outputs": [
        {
          "output_type": "stream",
          "name": "stdout",
          "text": [
            "Collecting torch_geometric\n",
            "  Downloading torch_geometric-2.5.3-py3-none-any.whl.metadata (64 kB)\n",
            "\u001b[?25l     \u001b[90m━━━━━━━━━━━━━━━━━━━━━━━━━━━━━━━━━━━━━━━━\u001b[0m \u001b[32m0.0/64.2 kB\u001b[0m \u001b[31m?\u001b[0m eta \u001b[36m-:--:--\u001b[0m\r\u001b[2K     \u001b[91m━━━━━━━━━━━━━━━━━━━━━━━━━━━━━━━━━━━━━━\u001b[0m\u001b[90m╺\u001b[0m\u001b[90m━\u001b[0m \u001b[32m61.4/64.2 kB\u001b[0m \u001b[31m1.9 MB/s\u001b[0m eta \u001b[36m0:00:01\u001b[0m\r\u001b[2K     \u001b[90m━━━━━━━━━━━━━━━━━━━━━━━━━━━━━━━━━━━━━━━━\u001b[0m \u001b[32m64.2/64.2 kB\u001b[0m \u001b[31m947.8 kB/s\u001b[0m eta \u001b[36m0:00:00\u001b[0m\n",
            "\u001b[?25hRequirement already satisfied: tqdm in /usr/local/lib/python3.10/dist-packages (from torch_geometric) (4.66.4)\n",
            "Requirement already satisfied: numpy in /usr/local/lib/python3.10/dist-packages (from torch_geometric) (1.26.4)\n",
            "Requirement already satisfied: scipy in /usr/local/lib/python3.10/dist-packages (from torch_geometric) (1.13.1)\n",
            "Requirement already satisfied: fsspec in /usr/local/lib/python3.10/dist-packages (from torch_geometric) (2024.6.1)\n",
            "Requirement already satisfied: jinja2 in /usr/local/lib/python3.10/dist-packages (from torch_geometric) (3.1.4)\n",
            "Requirement already satisfied: aiohttp in /usr/local/lib/python3.10/dist-packages (from torch_geometric) (3.9.5)\n",
            "Requirement already satisfied: requests in /usr/local/lib/python3.10/dist-packages (from torch_geometric) (2.31.0)\n",
            "Requirement already satisfied: pyparsing in /usr/local/lib/python3.10/dist-packages (from torch_geometric) (3.1.2)\n",
            "Requirement already satisfied: scikit-learn in /usr/local/lib/python3.10/dist-packages (from torch_geometric) (1.3.2)\n",
            "Requirement already satisfied: psutil>=5.8.0 in /usr/local/lib/python3.10/dist-packages (from torch_geometric) (5.9.5)\n",
            "Requirement already satisfied: aiosignal>=1.1.2 in /usr/local/lib/python3.10/dist-packages (from aiohttp->torch_geometric) (1.3.1)\n",
            "Requirement already satisfied: attrs>=17.3.0 in /usr/local/lib/python3.10/dist-packages (from aiohttp->torch_geometric) (23.2.0)\n",
            "Requirement already satisfied: frozenlist>=1.1.1 in /usr/local/lib/python3.10/dist-packages (from aiohttp->torch_geometric) (1.4.1)\n",
            "Requirement already satisfied: multidict<7.0,>=4.5 in /usr/local/lib/python3.10/dist-packages (from aiohttp->torch_geometric) (6.0.5)\n",
            "Requirement already satisfied: yarl<2.0,>=1.0 in /usr/local/lib/python3.10/dist-packages (from aiohttp->torch_geometric) (1.9.4)\n",
            "Requirement already satisfied: async-timeout<5.0,>=4.0 in /usr/local/lib/python3.10/dist-packages (from aiohttp->torch_geometric) (4.0.3)\n",
            "Requirement already satisfied: MarkupSafe>=2.0 in /usr/local/lib/python3.10/dist-packages (from jinja2->torch_geometric) (2.1.5)\n",
            "Requirement already satisfied: charset-normalizer<4,>=2 in /usr/local/lib/python3.10/dist-packages (from requests->torch_geometric) (3.3.2)\n",
            "Requirement already satisfied: idna<4,>=2.5 in /usr/local/lib/python3.10/dist-packages (from requests->torch_geometric) (3.7)\n",
            "Requirement already satisfied: urllib3<3,>=1.21.1 in /usr/local/lib/python3.10/dist-packages (from requests->torch_geometric) (2.0.7)\n",
            "Requirement already satisfied: certifi>=2017.4.17 in /usr/local/lib/python3.10/dist-packages (from requests->torch_geometric) (2024.7.4)\n",
            "Requirement already satisfied: joblib>=1.1.1 in /usr/local/lib/python3.10/dist-packages (from scikit-learn->torch_geometric) (1.4.2)\n",
            "Requirement already satisfied: threadpoolctl>=2.0.0 in /usr/local/lib/python3.10/dist-packages (from scikit-learn->torch_geometric) (3.5.0)\n",
            "Downloading torch_geometric-2.5.3-py3-none-any.whl (1.1 MB)\n",
            "\u001b[2K   \u001b[90m━━━━━━━━━━━━━━━━━━━━━━━━━━━━━━━━━━━━━━━━\u001b[0m \u001b[32m1.1/1.1 MB\u001b[0m \u001b[31m6.2 MB/s\u001b[0m eta \u001b[36m0:00:00\u001b[0m\n",
            "\u001b[?25hInstalling collected packages: torch_geometric\n",
            "Successfully installed torch_geometric-2.5.3\n"
          ]
        }
      ]
    },
    {
      "cell_type": "code",
      "source": [
        "import torch\n",
        "import torch.nn as nn\n",
        "import torch.optim as optim\n",
        "from torch_geometric.nn import GCNConv\n",
        "from torch_geometric.data import Data\n",
        "import torch.nn.functional as F\n",
        "import itertools\n",
        "\n",
        "# Define individual costs and locations\n",
        "individual_costs = torch.tensor([7, 27, 5, 10, 12, 14, 9, 10, 11, 21], dtype=torch.float32)\n",
        "locations = torch.tensor([\n",
        "    [0, 0], [1, 2], [2, 3], [3, 4], [4, 5],\n",
        "    [5, 6], [6, 7], [7, 8], [8, 9], [9, 10]\n",
        "], dtype=torch.float32)\n",
        "coalition_cost = torch.tensor(70.0)\n",
        "# Define edges (for simplicity, assuming a fully connected graph)\n",
        "edge_index = torch.tensor([\n",
        "    [0, 1, 2, 3, 4, 5, 6, 7, 8, 9,\n",
        "     1, 2, 3, 4, 5, 6, 7, 8, 9, 0],\n",
        "    [1, 2, 3, 4, 5, 6, 7, 8, 9, 0,\n",
        "     0, 1, 2, 3, 4, 5, 6, 7, 8, 9]\n",
        "], dtype=torch.long)\n",
        "\n",
        "# Define the GCN model\n",
        "class CostSharingGCN(nn.Module):\n",
        "    def __init__(self, num_node_features, hidden_channels):\n",
        "        super(CostSharingGCN, self).__init__()\n",
        "        # Define the three GCN layers\n",
        "        self.conv1 = GCNConv(num_node_features, hidden_channels)\n",
        "        self.conv2 = GCNConv(hidden_channels, hidden_channels)\n",
        "        self.conv3 = GCNConv(hidden_channels, hidden_channels)\n",
        "        # Define the two fully connected layers\n",
        "        self.fc1 = torch.nn.Linear(hidden_channels, hidden_channels)\n",
        "        self.fc2 = torch.nn.Linear(hidden_channels, 1)  # Output is one scalar value per node\n",
        "\n",
        "    def forward(self, data):\n",
        "        x, edge_index = data.x, data.edge_index\n",
        "        # Pass through the first GCN layer\n",
        "        x = self.conv1(x, edge_index)\n",
        "        x = F.relu(x)\n",
        "        # Pass through the second GCN layer\n",
        "        x = self.conv2(x, edge_index)\n",
        "        x = F.relu(x)\n",
        "        # Pass through the third GCN layer\n",
        "        x = self.conv3(x, edge_index)\n",
        "        x = F.relu(x)\n",
        "        # Pass through the first fully connected layer\n",
        "        x = self.fc1(x)\n",
        "        x = F.relu(x)\n",
        "        # Pass through the second fully connected layer to get the output\n",
        "        x = self.fc2(x)\n",
        "        return x\n",
        "\n",
        "# Prepare data\n",
        "node_features = torch.cat((individual_costs.view(-1, 1), locations), dim=1)\n",
        "data = Data(x=node_features, edge_index=edge_index)\n",
        "\n",
        "# Initialize model, loss function, and optimizer\n",
        "model = CostSharingGCN(3, 32)\n",
        "criterion = nn.MSELoss()\n",
        "optimizer = optim.Adam(model.parameters(), lr=0.001)\n",
        "\n",
        "# Define stability loss function\n",
        "def stability_loss(payments, individual_costs):\n",
        "    num_nodes = len(individual_costs)\n",
        "    loss = torch.tensor(0.0)\n",
        "    for i in range(1, num_nodes):\n",
        "        for subset in itertools.combinations(range(num_nodes), i):\n",
        "            subset_payment = payments[list(subset)].sum()\n",
        "            subset_cost = individual_costs[list(subset)].sum()\n",
        "            if subset_payment > subset_cost:\n",
        "                loss += subset_payment - subset_cost\n",
        "    return loss\n",
        "\n",
        "# Training loop\n",
        "for epoch in range(2000):\n",
        "    model.train()\n",
        "    optimizer.zero_grad()\n",
        "\n",
        "    # Forward pass\n",
        "    payments = model(data).squeeze()\n",
        "    total_payment = payments.sum()\n",
        "\n",
        "    # Loss calculation\n",
        "    budget_balance_loss = criterion(total_payment, torch.tensor(coalition_cost))\n",
        "    individual_rationality_loss = torch.relu(payments - individual_costs).sum()\n",
        "    cost_reductions = (individual_costs - payments) / individual_costs\n",
        "    fairness_loss = cost_reductions.var()\n",
        "    stability_loss_value = stability_loss(payments, individual_costs)\n",
        "\n",
        "    loss = budget_balance_loss + individual_rationality_loss + fairness_loss * 10000 + stability_loss_value\n",
        "\n",
        "    # Backward pass and optimization\n",
        "    loss.backward()\n",
        "    optimizer.step()\n",
        "\n",
        "    if epoch % 100 == 0:\n",
        "        print(f'Epoch {epoch}, Loss: {loss.item()}')\n",
        "\n",
        "# Get the final payments\n",
        "model.eval()\n",
        "final_payments = model(data).squeeze().detach()\n",
        "print(f'Final payments: {final_payments}')\n",
        "print(f'Total payment: {final_payments.sum()}')\n"
      ],
      "metadata": {
        "colab": {
          "base_uri": "https://localhost:8080/"
        },
        "id": "LzA22w0N1mFp",
        "outputId": "d13118a1-3990-42db-9cc2-00801e6743bb"
      },
      "execution_count": null,
      "outputs": [
        {
          "output_type": "stream",
          "name": "stderr",
          "text": [
            "<ipython-input-2-12653e23c069>:85: UserWarning: To copy construct from a tensor, it is recommended to use sourceTensor.clone().detach() or sourceTensor.clone().detach().requires_grad_(True), rather than torch.tensor(sourceTensor).\n",
            "  budget_balance_loss = criterion(total_payment, torch.tensor(coalition_cost))\n"
          ]
        },
        {
          "output_type": "stream",
          "name": "stdout",
          "text": [
            "Epoch 0, Loss: 4292.814453125\n",
            "Epoch 100, Loss: 699.85791015625\n",
            "Epoch 200, Loss: 629.7369995117188\n",
            "Epoch 300, Loss: 604.4925537109375\n",
            "Epoch 400, Loss: 555.0797119140625\n",
            "Epoch 500, Loss: 389.4798278808594\n",
            "Epoch 600, Loss: 337.3009033203125\n",
            "Epoch 700, Loss: 301.0767822265625\n",
            "Epoch 800, Loss: 223.76576232910156\n",
            "Epoch 900, Loss: 104.62883758544922\n",
            "Epoch 1000, Loss: 27.746665954589844\n",
            "Epoch 1100, Loss: 10.290665626525879\n",
            "Epoch 1200, Loss: 8.5853271484375\n",
            "Epoch 1300, Loss: 7.433615684509277\n",
            "Epoch 1400, Loss: 6.9077630043029785\n",
            "Epoch 1500, Loss: 6.428675651550293\n",
            "Epoch 1600, Loss: 5.986484527587891\n",
            "Epoch 1700, Loss: 5.479331016540527\n",
            "Epoch 1800, Loss: 5.265585422515869\n",
            "Epoch 1900, Loss: 4.722656726837158\n",
            "Final payments: tensor([ 3.8994, 15.0459,  2.7822,  5.5673,  6.6793,  7.5713,  5.4402,  5.2467,\n",
            "         6.1777, 11.7035])\n",
            "Total payment: 70.11363983154297\n"
          ]
        }
      ]
    },
    {
      "cell_type": "code",
      "source": [
        "stability_loss(payments, individual_costs)"
      ],
      "metadata": {
        "colab": {
          "base_uri": "https://localhost:8080/"
        },
        "id": "T_NVFlUW4aOz",
        "outputId": "75af5a3c-db29-4143-dec1-70535c4bc74a"
      },
      "execution_count": null,
      "outputs": [
        {
          "output_type": "execute_result",
          "data": {
            "text/plain": [
              "tensor(0.)"
            ]
          },
          "metadata": {},
          "execution_count": 17
        }
      ]
    },
    {
      "cell_type": "code",
      "source": [
        "loss"
      ],
      "metadata": {
        "colab": {
          "base_uri": "https://localhost:8080/"
        },
        "id": "uMXKyeeK4bN8",
        "outputId": "bc550038-262e-4ce6-aa21-5daf796cd808"
      },
      "execution_count": null,
      "outputs": [
        {
          "output_type": "execute_result",
          "data": {
            "text/plain": [
              "tensor(0.0974, grad_fn=<AddBackward0>)"
            ]
          },
          "metadata": {},
          "execution_count": 16
        }
      ]
    },
    {
      "cell_type": "code",
      "source": [],
      "metadata": {
        "id": "m2DhBQP24jaZ"
      },
      "execution_count": null,
      "outputs": []
    }
  ]
}